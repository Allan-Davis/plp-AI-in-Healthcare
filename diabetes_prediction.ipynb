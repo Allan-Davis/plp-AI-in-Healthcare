# AI in Healthcare: Predicting Diabetes Risk Using Machine Learning

# 📦 Import libraries
import pandas as pd
import numpy as np
import matplotlib.pyplot as plt
import seaborn as sns

from sklearn.model_selection import train_test_split
from sklearn.ensemble import RandomForestClassifier
from sklearn.metrics import accuracy_score, classification_report

# 📊 Load the dataset
url = 'https://raw.githubusercontent.com/jbrownlee/Datasets/master/pima-indians-diabetes.data.csv'
columns = ['Pregnancies', 'Glucose', 'BloodPressure', 'SkinThickness',
           'Insulin', 'BMI', 'DiabetesPedigreeFunction', 'Age', 'Outcome']
df = pd.read_csv(url, names=columns)

# 👀 Preview the data
print(df.head())

# 🔍 Check for missing or zero values
print((df == 0).sum())

# Optional: Replace zeros in some columns with the median (basic cleaning)
for col in ['Glucose', 'BloodPressure', 'SkinThickness', 'Insulin', 'BMI']:
    df[col] = df[col].replace(0, df[col].median())

# 📌 Features and Target
X = df.drop('Outcome', axis=1)
y = df['Outcome']

# 🧪 Train-test split
X_train, X_test, y_train, y_test = train_test_split(X, y, test_size=0.3, random_state=42)

# 🤖 Train the model
model = RandomForestClassifier(random_state=42)
model.fit(X_train, y_train)

# 🎯 Make predictions
y_pred = model.predict(X_test)

# 📈 Evaluation
print("Accuracy Score:", accuracy_score(y_test, y_pred))
print("\nClassification Report:\n", classification_report(y_test, y_pred))
